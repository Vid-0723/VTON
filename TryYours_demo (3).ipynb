{
  "nbformat": 4,
  "nbformat_minor": 0,
  "metadata": {
    "colab": {
      "provenance": []
    },
    "kernelspec": {
      "name": "python3",
      "display_name": "Python 3"
    },
    "language_info": {
      "name": "python"
    },
    "accelerator": "GPU",
    "gpuClass": "standard"
  },
  "cells": [
    {
      "cell_type": "markdown",
      "source": [
        "# TryYours - High Resolution Virtual Try On site using HR-VITON.\n",
        "---\n",
        "Demo for Virtual Try On website"
      ],
      "metadata": {
        "id": "BE7CWA1uod89"
      }
    },
    {
      "cell_type": "markdown",
      "source": [
        "# 1.Setup\n",
        "- First, in the **Runtime** menu -> **Change runtime type**, make sure to have ```Hardware Accelerator = GPU```\n",
        "- Clone repo and install dependencies.\n",
        "- **It will take few minutes to finish installation**"
      ],
      "metadata": {
        "id": "d7-EHvOCoqMv"
      }
    },
    {
      "cell_type": "code",
      "execution_count": null,
      "metadata": {
        "id": "lgcmjo79VlG6"
      },
      "outputs": [],
      "source": [
        "# clone repository\n",
        "!git clone https://github.com/lastdefiance20/TryYours-Virtual-Try-On\n",
        "\n",
        "# install dependencies\n",
        "!pip install tensorboardX av torchgeometry flask flask-ngrok iglovikov_helper_functions cloths_segmentation albumentations\n",
        "!pip install scipy==1.8.0\n",
        "\n",
        "%cd TryYours-Virtual-Try-On\n",
        "# install detectron2\n",
        "!python -m pip install 'git+https://github.com/facebookresearch/detectron2.git'"
      ]
    },
    {
      "cell_type": "markdown",
      "source": [
        "# 2. Download Pre-trained Models"
      ],
      "metadata": {
        "id": "BfJ3m3RtrmaG"
      }
    },
    {
      "cell_type": "code",
      "source": [
        "!pip install --upgrade --no-cache-dir gdown\n",
        "\n",
        "%cd HR-VITON-main\n",
        "!gdown https://drive.google.com/u/0/uc?id=1T5_YDUhYSSKPC_nZMk2NeC-XXUFoYeNy&export=download\n",
        "!gdown https://drive.google.com/u/0/uc?id=1XJTCdRBOPVgVTmqzhVGFAgMm2NLkw5uQ&export=download\n",
        "%cd ../\n",
        "\n",
        "%cd Graphonomy-master\n",
        "!gdown https://drive.google.com/u/0/uc?id=1eUe18HoH05p0yFUd_sN6GXdTj82aW0m9&export=download\n",
        "%cd ../"
      ],
      "metadata": {
        "id": "gJUHNGLorsAR"
      },
      "execution_count": null,
      "outputs": []
    },
    {
      "cell_type": "markdown",
      "source": [
        "# 3. Upload Cloth Images\n",
        "Either use sample images or upload other cloth images"
      ],
      "metadata": {
        "id": "spgbozAkpjAm"
      }
    },
    {
      "cell_type": "code",
      "source": [
        "import os\n",
        "import shutil\n",
        "from google.colab import files\n",
        "\n",
        "# Uncomment the following block if you would like to upload your own cloth images.\n",
        "'''\n",
        "input_dir = 'static'\n",
        "uploaded = files.upload()\n",
        "for filename in uploaded.keys():\n",
        "  input_path = os.path.join(input_dir, filename)\n",
        "  shutil.move(filename, input_path)\n",
        "os.remove(input_dir+'/cloth_web.jpg')\n",
        "os.rename(input_path, input_dir+'/cloth_web.jpg')\n",
        "'''"
      ],
      "metadata": {
        "id": "Hq3xEMl_pQWz"
      },
      "execution_count": null,
      "outputs": []
    },
    {
      "cell_type": "markdown",
      "source": [
        "# 4. Upload Person Images\n",
        "Either use sample images or upload your images"
      ],
      "metadata": {
        "id": "ZiJfNU5irTwI"
      }
    },
    {
      "cell_type": "code",
      "source": [
        "# Uncomment the following block if you would like to upload your own images.\n",
        "'''\n",
        "input_dir = 'static'\n",
        "uploaded = files.upload()\n",
        "for filename in uploaded.keys():\n",
        "  input_path = os.path.join(input_dir, filename)\n",
        "  shutil.move(filename, input_path)\n",
        "os.remove(input_dir+'/origin_web.jpg')\n",
        "os.rename(input_path, input_dir+'/origin_web.jpg')\n",
        "'''"
      ],
      "metadata": {
        "id": "cj3YyjwlqtI9"
      },
      "execution_count": null,
      "outputs": []
    },
    {
      "cell_type": "markdown",
      "source": [
        "# 5. Check Images\n",
        "check image uploaded successfully"
      ],
      "metadata": {
        "id": "uoONO03Mvtie"
      }
    },
    {
      "cell_type": "code",
      "source": [
        "import matplotlib.pyplot as plt\n",
        "import cv2\n",
        "\n",
        "original = cv2.cvtColor(cv2.imread(\"./static/origin_web.jpg\"), cv2.COLOR_BGR2RGB)\n",
        "cloth = cv2.cvtColor(cv2.imread(\"./static/cloth_web.jpg\"), cv2.COLOR_BGR2RGB)\n",
        "## Display Images\n",
        "fig, axes = plt.subplots(nrows=1, ncols=2)\n",
        "dpi = fig.get_dpi()\n",
        "fig.set_size_inches(900/ dpi, 448 / dpi)\n",
        "plt.subplots_adjust(left=0, right=1, bottom=0, top=1)\n",
        "axes[0].axis('off')\n",
        "axes[0].imshow(original)\n",
        "axes[1].axis('off')\n",
        "axes[1].imshow(cloth)\n",
        "plt.show()"
      ],
      "metadata": {
        "id": "IUgVQitcs0Vx"
      },
      "execution_count": null,
      "outputs": []
    },
    {
      "cell_type": "markdown",
      "source": [
        "# 6. RUN CODE\n",
        "* It will take less than 2 minute\n",
        "* you can remove background using --background False\n",
        "\n",
        "\n"
      ],
      "metadata": {
        "id": "gmbxZZ5XsoNm"
      }
    },
    {
      "cell_type": "code",
      "source": [
        "!python main.py #--background False"
      ],
      "metadata": {
        "id": "OLlPAT0nrh0P"
      },
      "execution_count": null,
      "outputs": []
    },
    {
      "cell_type": "markdown",
      "source": [
        "# 7. View Results"
      ],
      "metadata": {
        "id": "0ghuTAX2s7U_"
      }
    },
    {
      "cell_type": "code",
      "source": [
        "from PIL import Image\n",
        "from IPython.display import Image\n",
        "\n",
        "image1 = Image(filename=\"./static/finalimg.png\")\n",
        "display(image1)"
      ],
      "metadata": {
        "id": "Ojk__QBku3gD"
      },
      "execution_count": null,
      "outputs": []
    },
    {
      "cell_type": "markdown",
      "source": [
        "# We will add Website code later. Enjoy the code!"
      ],
      "metadata": {
        "id": "0djSVmBD2beu"
      }
    }
  ]
}